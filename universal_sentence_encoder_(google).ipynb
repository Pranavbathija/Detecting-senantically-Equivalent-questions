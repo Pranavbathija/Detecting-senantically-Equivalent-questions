{
  "nbformat": 4,
  "nbformat_minor": 0,
  "metadata": {
    "colab": {
      "provenance": []
    },
    "kernelspec": {
      "name": "python3",
      "display_name": "Python 3"
    }
  },
  "cells": [
    {
      "cell_type": "code",
      "metadata": {
        "id": "eTyPYV1l1xTi",
        "colab": {
          "base_uri": "https://localhost:8080/",
          "height": 147
        },
        "outputId": "b978870e-5329-48f1-a845-17db9f8e69b7"
      },
      "source": [
        "!pip install num2words\n",
        "# !pip install word2number"
      ],
      "execution_count": null,
      "outputs": [
        {
          "output_type": "stream",
          "text": [
            "Collecting num2words\n",
            "\u001b[?25l  Downloading https://files.pythonhosted.org/packages/eb/a2/ea800689730732e27711c41beed4b2a129b34974435bdc450377ec407738/num2words-0.5.10-py3-none-any.whl (101kB)\n",
            "\r\u001b[K     |███▎                            | 10kB 13.7MB/s eta 0:00:01\r\u001b[K     |██████▌                         | 20kB 2.8MB/s eta 0:00:01\r\u001b[K     |█████████▊                      | 30kB 3.5MB/s eta 0:00:01\r\u001b[K     |█████████████                   | 40kB 3.9MB/s eta 0:00:01\r\u001b[K     |████████████████▏               | 51kB 3.4MB/s eta 0:00:01\r\u001b[K     |███████████████████▍            | 61kB 3.7MB/s eta 0:00:01\r\u001b[K     |██████████████████████▋         | 71kB 3.9MB/s eta 0:00:01\r\u001b[K     |█████████████████████████▉      | 81kB 4.3MB/s eta 0:00:01\r\u001b[K     |█████████████████████████████   | 92kB 4.4MB/s eta 0:00:01\r\u001b[K     |████████████████████████████████| 102kB 3.3MB/s \n",
            "\u001b[?25hRequirement already satisfied: docopt>=0.6.2 in /usr/local/lib/python3.6/dist-packages (from num2words) (0.6.2)\n",
            "Installing collected packages: num2words\n",
            "Successfully installed num2words-0.5.10\n"
          ],
          "name": "stdout"
        }
      ]
    },
    {
      "cell_type": "code",
      "metadata": {
        "id": "Q14m-Y_Hoy2K"
      },
      "source": [
        "import pandas as pd\n",
        "import nltk\n",
        "from nltk.corpus import stopwords\n",
        "from  nltk.stem import SnowballStemmer\n",
        "# from keras.layers import Bidirectional,LSTM,Dense,Embedding,Dropout,Activation,Input,BatchNormalization,GlobalAveragePooling1D,Flatten\n",
        "from sklearn.model_selection import train_test_split\n",
        "from sklearn.preprocessing import LabelEncoder\n",
        "import gensim\n",
        "import numpy as np\n",
        "import re\n",
        "from tensorflow.keras.preprocessing.text import Tokenizer\n",
        "from tensorflow.keras.preprocessing.sequence import pad_sequences\n",
        "# from tensorflow.keras.models import Model,load_model\n",
        "from tensorflow.keras import Model\n",
        "from tensorflow.keras.optimizers import Adam,SGD,Adadelta,RMSprop\n",
        "# from keras.layers import Layer,Dense,concatenate,Lambda,Add,dot\n",
        "# from tensorflow.keras.models import load_model\n",
        "from tensorflow.keras.callbacks import ReduceLROnPlateau, EarlyStopping\n",
        "from num2words import num2words \n",
        "from tensorflow.keras import backend as K\n",
        "from tensorflow.keras.utils import to_categorical\n",
        "import tensorflow as tf\n",
        "from tensorflow.keras.layers import LayerNormalization,Bidirectional,LSTM,Dense,Embedding,Dropout,Activation,Input,BatchNormalization,GlobalAveragePooling1D,Flatten,Layer,concatenate,Lambda,Add,dot,MaxPooling1D,Conv1D,Multiply,GRU\n",
        "from nltk.stem.wordnet import WordNetLemmatizer\n",
        "from gensim.models import KeyedVectors\n",
        "from tensorflow.keras import Sequential \n",
        "from tensorflow.keras.regularizers import l2"
      ],
      "execution_count": null,
      "outputs": []
    },
    {
      "cell_type": "code",
      "metadata": {
        "id": "Fhx730zFCPW6",
        "colab": {
          "base_uri": "https://localhost:8080/",
          "height": 130
        },
        "outputId": "7db475d9-ecc2-4f4e-9ced-f054201c8a54"
      },
      "source": [
        "from google.colab import drive\n",
        "drive.mount('/content/drive')"
      ],
      "execution_count": null,
      "outputs": [
        {
          "output_type": "stream",
          "text": [
            "Go to this URL in a browser: https://accounts.google.com/o/oauth2/auth?client_id=947318989803-6bn6qk8qdgf4n4g3pfee6491hc0brc4i.apps.googleusercontent.com&redirect_uri=urn%3aietf%3awg%3aoauth%3a2.0%3aoob&response_type=code&scope=email%20https%3a%2f%2fwww.googleapis.com%2fauth%2fdocs.test%20https%3a%2f%2fwww.googleapis.com%2fauth%2fdrive%20https%3a%2f%2fwww.googleapis.com%2fauth%2fdrive.photos.readonly%20https%3a%2f%2fwww.googleapis.com%2fauth%2fpeopleapi.readonly\n",
            "\n",
            "Enter your authorization code:\n",
            "··········\n",
            "Mounted at /content/drive\n"
          ],
          "name": "stdout"
        }
      ]
    },
    {
      "cell_type": "code",
      "metadata": {
        "id": "ZrBrc6k-CXph"
      },
      "source": [
        "# ! unzip -q -n  /content/drive/My\\ Drive/fake\\ news/crawl-300d-2M.vec.zip -d /content\n",
        "# ! unzip -q -n  /content/drive/My\\ Drive/fake\\ news/wiki-news-300d-1M.vec.zip -d /content"
      ],
      "execution_count": null,
      "outputs": []
    },
    {
      "cell_type": "code",
      "metadata": {
        "id": "VlAHkwuBp95D"
      },
      "source": [
        "# df_train_bodies=pd.read_csv('/content/train_bodies.csv')\n",
        "# df_train_stances=pd.read_csv('/content/train_stances.csv')\n",
        "# p2si_train=pd.read_csv('/content/paragraph2sentence.train.input.tsv',sep='\\t',names=['para','sent','id'])\n",
        "# p2so_train=pd.read_csv('/content/paragraph2sentence.train.gs.tsv',sep='\\t',names=['score'])\n",
        "# df_train_bodies.head(5)\n",
        "# df=pd.read_excel('/content/text_similarity.xlsx')\n",
        "# df_train=pd.read_csv('/content/df_train.csv')\n",
        "df_test=pd.read_csv('/content/df_test.csv')\n",
        "# test=pd.read_csv('/content/drive/My Drive/fake news/test.csv')"
      ],
      "execution_count": null,
      "outputs": []
    },
    {
      "cell_type": "code",
      "metadata": {
        "id": "ki1pLJCDO29C",
        "colab": {
          "base_uri": "https://localhost:8080/",
          "height": 36
        },
        "outputId": "85cfff64-c480-43ac-83e2-9f90bb8b35f4"
      },
      "source": [
        "df_train=df_train.dropna()\n",
        "df_train.isnull().values.sum()"
      ],
      "execution_count": null,
      "outputs": [
        {
          "output_type": "execute_result",
          "data": {
            "text/plain": [
              "0"
            ]
          },
          "metadata": {
            "tags": []
          },
          "execution_count": 7
        }
      ]
    },
    {
      "cell_type": "code",
      "metadata": {
        "id": "4B4Les6GCqx4",
        "colab": {
          "base_uri": "https://localhost:8080/",
          "height": 91
        },
        "outputId": "d732b738-2c54-4f36-d36c-987af3392716"
      },
      "source": [
        "def preprocessing(text):\n",
        "  text=str(text)\n",
        "  # pattern='https?:\\S+|[^a-zA-Z0-9]+'\n",
        "  # text=re.sub(pattern,' ',text.lower()).strip()\n",
        "  # tokens=[]\n",
        "  # for token in text.split():\n",
        "  #   try:\n",
        "  #     token=num2words(token)\n",
        "  #   except:\n",
        "  #     pass\n",
        "  #   # if token not in stop_words:\n",
        "  #   tokens.append(lemmatizer.lemmatize(token))\n",
        "  #   # tokens.append(token)\n",
        "  #   # tokens.append(stemmer.stem(token))\n",
        "  # return \" \".join(tokens)\n",
        "  return text.lower()\n",
        "\n",
        "nltk.download('stopwords')\n",
        "stop_words=stopwords.words('english')\n",
        "stemmer=SnowballStemmer('english')\n",
        "nltk.download('wordnet')\n",
        "lemmatizer = WordNetLemmatizer()"
      ],
      "execution_count": null,
      "outputs": [
        {
          "output_type": "stream",
          "text": [
            "[nltk_data] Downloading package stopwords to /root/nltk_data...\n",
            "[nltk_data]   Package stopwords is already up-to-date!\n",
            "[nltk_data] Downloading package wordnet to /root/nltk_data...\n",
            "[nltk_data]   Package wordnet is already up-to-date!\n"
          ],
          "name": "stdout"
        }
      ]
    },
    {
      "cell_type": "code",
      "metadata": {
        "id": "DxLrdpriC5qn"
      },
      "source": [
        "test.question1=test.question1.apply(preprocessing)\n",
        "test.question2=test.question2.apply(preprocessing)"
      ],
      "execution_count": null,
      "outputs": []
    },
    {
      "cell_type": "code",
      "metadata": {
        "id": "BZ1h7mRyRnkD",
        "colab": {
          "base_uri": "https://localhost:8080/",
          "height": 74
        },
        "outputId": "6c12f618-d761-44d5-cfac-aba3ddc8f9a4"
      },
      "source": [
        "word2vec = KeyedVectors.load_word2vec_format('/content/drive/My Drive/fake news/GoogleNews-vectors-negative300.bin', binary=True)"
      ],
      "execution_count": null,
      "outputs": [
        {
          "output_type": "stream",
          "text": [
            "/usr/local/lib/python3.6/dist-packages/smart_open/smart_open_lib.py:253: UserWarning: This function is deprecated, use smart_open.open instead. See the migration notes for details: https://github.com/RaRe-Technologies/smart_open/blob/master/README.rst#migrating-to-the-new-open-function\n",
            "  'See the migration notes for details: %s' % _MIGRATION_NOTES_URL\n"
          ],
          "name": "stderr"
        }
      ]
    },
    {
      "cell_type": "code",
      "metadata": {
        "id": "Rwc0V8wsS4iY"
      },
      "source": [
        "# word2vec.vocab"
      ],
      "execution_count": null,
      "outputs": []
    },
    {
      "cell_type": "code",
      "metadata": {
        "id": "kw7_7ty8NkwD"
      },
      "source": [
        "# language=list(df_train.articleBody)+list(df_train.Headline)\n",
        "language=list(df_train.question1)+list(df_train.question2)\n",
        "tokenizer=Tokenizer()\n",
        "tokenizer.fit_on_texts(language)\n"
      ],
      "execution_count": null,
      "outputs": []
    },
    {
      "cell_type": "code",
      "metadata": {
        "id": "MFzL-0zV9mrg"
      },
      "source": [
        "X_train_article=pad_sequences(tokenizer.texts_to_sequences(df_train.question1),maxlen=30)\n",
        "X_test_article=pad_sequences(tokenizer.texts_to_sequences(df_test.question1),maxlen=30)"
      ],
      "execution_count": null,
      "outputs": []
    },
    {
      "cell_type": "code",
      "metadata": {
        "id": "6s0qR2ZIO1eG",
        "colab": {
          "base_uri": "https://localhost:8080/",
          "height": 36
        },
        "outputId": "e886fbc7-6226-445a-acb9-44b4ff3c549d"
      },
      "source": [
        "X_train_article.shape"
      ],
      "execution_count": null,
      "outputs": [
        {
          "output_type": "execute_result",
          "data": {
            "text/plain": [
              "(388496, 30)"
            ]
          },
          "metadata": {
            "tags": []
          },
          "execution_count": 10
        }
      ]
    },
    {
      "cell_type": "code",
      "metadata": {
        "id": "TQEZn7Ngfyry"
      },
      "source": [
        "X_train_head=pad_sequences(tokenizer.texts_to_sequences(df_train.question2),maxlen=30)\n",
        "X_test_head=pad_sequences(tokenizer.texts_to_sequences(df_test.question2),maxlen=30)"
      ],
      "execution_count": null,
      "outputs": []
    },
    {
      "cell_type": "code",
      "metadata": {
        "id": "fJh2wuaTQDEW",
        "colab": {
          "base_uri": "https://localhost:8080/",
          "height": 36
        },
        "outputId": "61daa944-f491-4e67-cdf2-a70471577ba4"
      },
      "source": [
        "X_train_head.shape"
      ],
      "execution_count": null,
      "outputs": [
        {
          "output_type": "execute_result",
          "data": {
            "text/plain": [
              "(388496, 30)"
            ]
          },
          "metadata": {
            "tags": []
          },
          "execution_count": 12
        }
      ]
    },
    {
      "cell_type": "code",
      "metadata": {
        "id": "z9K9fuWvfoRj"
      },
      "source": [
        "# y_train=df_train.is_duplicate\n",
        "y_test=df_test.is_duplicate"
      ],
      "execution_count": null,
      "outputs": []
    },
    {
      "cell_type": "code",
      "metadata": {
        "id": "oUlXiTrWQG0f"
      },
      "source": [
        "# encoder=LabelEncoder()\n",
        "# y_train=encoder.fit_transform(df_train.Stance)\n",
        "# y_test=encoder.transform(df_test.Stance)\n",
        "# y_train=to_categorical(y_train, num_classes=2)\n",
        "y_test=to_categorical(y_test, num_classes=2)"
      ],
      "execution_count": null,
      "outputs": []
    },
    {
      "cell_type": "code",
      "metadata": {
        "id": "cqf2cTosRRjF",
        "colab": {
          "base_uri": "https://localhost:8080/",
          "height": 147
        },
        "outputId": "5881aac0-5283-4d2e-a9c4-2fbd8e64f852"
      },
      "source": [
        "y_train"
      ],
      "execution_count": null,
      "outputs": [
        {
          "output_type": "execute_result",
          "data": {
            "text/plain": [
              "array([[1., 0.],\n",
              "       [0., 1.],\n",
              "       [1., 0.],\n",
              "       ...,\n",
              "       [0., 1.],\n",
              "       [1., 0.],\n",
              "       [1., 0.]], dtype=float32)"
            ]
          },
          "metadata": {
            "tags": []
          },
          "execution_count": 15
        }
      ]
    },
    {
      "cell_type": "code",
      "metadata": {
        "id": "3jyQggJ7Qfwa"
      },
      "source": [
        "vocab_size=len(tokenizer.word_index)+1\n",
        "embedding_matrix=np.zeros((vocab_size,300))\n",
        "for word,i in tokenizer.word_index.items():\n",
        "    if word in word2vec.vocab:\n",
        "        embedding_matrix[i]=word2vec.word_vec(word)"
      ],
      "execution_count": null,
      "outputs": []
    },
    {
      "cell_type": "code",
      "metadata": {
        "id": "JGjeIZL4c3V4"
      },
      "source": [
        "def f1_m(y_true, y_pred):\n",
        "    y_pred = K.round(y_pred)\n",
        "    tp = K.sum(K.cast(y_true*y_pred, 'float'), axis=0)\n",
        "    # tn = K.sum(K.cast((1-y_true)*(1-y_pred), 'float'), axis=0)\n",
        "    fp = K.sum(K.cast((1-y_true)*y_pred, 'float'), axis=0)\n",
        "    fn = K.sum(K.cast(y_true*(1-y_pred), 'float'), axis=0)\n",
        "\n",
        "    p = tp / (tp + fp + K.epsilon())\n",
        "    r = tp / (tp + fn + K.epsilon())\n",
        "\n",
        "    f1 = 2*p*r / (p+r+K.epsilon())\n",
        "    f1 = tf.where(tf.math.is_nan(f1), tf.zeros_like(f1), f1)\n",
        "    return K.mean(f1)\n",
        "\n",
        "\n",
        "def precision(y_true, y_pred):\n",
        "    y_pred = K.round(y_pred)\n",
        "    tp = K.sum(K.cast(y_true*y_pred, 'float'), axis=0)\n",
        "    # tn = K.sum(K.cast((1-y_true)*(1-y_pred), 'float'), axis=0)\n",
        "    fp = K.sum(K.cast((1-y_true)*y_pred, 'float'), axis=0)\n",
        "    fn = K.sum(K.cast(y_true*(1-y_pred), 'float'), axis=0)\n",
        "\n",
        "    p = tp / (tp + fp + K.epsilon())\n",
        "    return p\n",
        "\n",
        "def recall(y_true, y_pred):\n",
        "    y_pred = K.round(y_pred)\n",
        "    tp = K.sum(K.cast(y_true*y_pred, 'float'), axis=0)\n",
        "    # tn = K.sum(K.cast((1-y_true)*(1-y_pred), 'float'), axis=0)\n",
        "    fp = K.sum(K.cast((1-y_true)*y_pred, 'float'), axis=0)\n",
        "    fn = K.sum(K.cast(y_true*(1-y_pred), 'float'), axis=0)\n",
        "    r = tp / (tp + fn + K.epsilon())\n",
        "    return r\n",
        "\n"
      ],
      "execution_count": null,
      "outputs": []
    },
    {
      "cell_type": "code",
      "metadata": {
        "id": "hn6GGUX83004"
      },
      "source": [
        "class MultiHeadAttention(Layer):\n",
        "  def __init__(self,embdim,nheads):\n",
        "    super(MultiHeadAttention,self).__init__()\n",
        "    self.embdim=embdim\n",
        "    self.nheads=nheads\n",
        "    self.wq=Dense(embdim)\n",
        "    self.wk=Dense(embdim)\n",
        "    self.wv=Dense(embdim)\n",
        "    self.out_dense=Dense(embdim)\n",
        "    self.depth=embdim//nheads\n",
        " \n",
        "  def split_heads(self,x,batch_size):\n",
        "    x=tf.reshape(x,(batch_size,-1,self.nheads,self.depth))\n",
        "    return tf.transpose(x, perm=[0, 2, 1, 3])\n",
        " \n",
        "  def scaled_dot_attention(self,q,k,v):\n",
        "    # k=(tf.math.square(k))\n",
        "    # q=(tf.math.square(q))\n",
        "    qk=tf.matmul(q,k,transpose_b=True)\n",
        "    dk = tf.cast(tf.shape(k)[-1], tf.float32)\n",
        "    scaled_qk=qk/tf.math.sqrt(dk)\n",
        "    attention_weights=tf.nn.softmax(scaled_qk,axis=-1)\n",
        "    output=tf.matmul(attention_weights,v)\n",
        "    return output,attention_weights\n",
        "\n",
        "\n",
        " \n",
        "  def call(self,inputs):\n",
        "    q=self.wq(inputs)\n",
        "    v=self.wv(inputs)\n",
        "    k=self.wk(inputs)\n",
        "    batch_size=tf.shape(inputs)[0]\n",
        "    q=self.split_heads(q,batch_size)\n",
        "    k=self.split_heads(k,batch_size)\n",
        "    v=self.split_heads(v,batch_size)\n",
        "    \n",
        "    scaled_attention,weights=self.scaled_dot_attention(q,k,v)\n",
        "    scaled_attention= tf.transpose(scaled_attention, perm=[0, 2, 1, 3])\n",
        "    concat_attention=tf.reshape(scaled_attention,(batch_size,-1,self.embdim))\n",
        "    output=self.out_dense(concat_attention)\n",
        "    return output\n",
        " \n",
        "class PositionalEncoding(Layer):\n",
        "  def __init__(self, d_model):\n",
        "    super(PositionalEncoding,self).__init__()\n",
        "    self.d_model = d_model\n",
        " \n",
        "  def call(self, inputs):\n",
        "    position = tf.shape(inputs)[1]\n",
        " \n",
        "    position_dims = tf.range(position)[:, tf.newaxis]\n",
        "    embed_dims = tf.range(self.d_model)[tf.newaxis, :]\n",
        "    angle_rates = 1 / tf.pow(\n",
        "        10000.0, tf.cast(\n",
        "            (2 * (embed_dims // 2)) / self.d_model, tf.float32))\n",
        "    angle_rads = tf.cast(position_dims, tf.float32) * angle_rates\n",
        " \n",
        "    sines = tf.sin(angle_rads[:, 0::2])\n",
        "    cosines = tf.cos(angle_rads[:, 1::2]) \n",
        "    pos_encoding = tf.concat([sines, cosines], axis=-1)\n",
        "    pos_encoding = pos_encoding[tf.newaxis, ...]\n",
        "    return tf.cast(pos_encoding, tf.float32)\n",
        " \n",
        " \n",
        " \n",
        "class Transformer(Layer):\n",
        "  def __init__(self,embdim,nheads,dff,rate):\n",
        "    super(Transformer,self).__init__()\n",
        "    self.ffn1=Dense(dff, activation='relu')\n",
        "    self.ffn3=Dense(dff/2,activation='relu')\n",
        "    self.ffn4=Dense(dff/4,activation='relu')\n",
        "    self.ffn2=Dense(embdim)\n",
        "    self.mha=MultiHeadAttention(embdim,nheads)\n",
        "    self.layernorm1 = LayerNormalization(epsilon=1e-6)\n",
        "    self.layernorm2 = LayerNormalization(epsilon=1e-6)\n",
        "    self.dropout1 = Dropout(rate)\n",
        "    self.dropout2 = Dropout(rate)\n",
        "    self.dropout3 = Dropout(rate)\n",
        "    self.dropout4 = Dropout(rate)\n",
        "    \n",
        " \n",
        "  def call(self,inputs):\n",
        "    att_out=self.mha(inputs)\n",
        "    att_out=self.dropout1(att_out)\n",
        "    out1=self.layernorm1(inputs+att_out)\n",
        "    ff=self.ffn1(out1)\n",
        "    ff=self.ffn2(ff)\n",
        "    ff=self.dropout2(ff)\n",
        "    return self.layernorm2(out1+ff)\n",
        " \n",
        " \n",
        "class AvgWords(Layer):\n",
        "  def __init__(self,output_dim):\n",
        "    super(AvgWords,self).__init__()\n",
        "    self.output_dim=output_dim\n",
        " \n",
        "  def call(self, inputs):\n",
        "    axis = K.ndim(inputs) - 2\n",
        "    input_shape = K.shape(inputs)\n",
        "    bs = input_shape[0]\n",
        "    summed=tf.reduce_sum(inputs,axis=axis)\n",
        "    nwords=tf.math.reduce_sum(tf.cast(tf.math.greater(tf.math.reduce_sum(tf.cast(tf.math.not_equal(inputs, 0),dtype='int16'),axis=axis+1),0),dtype='float32'),axis=-1)\n",
        "    return summed/tf.reshape(nwords,shape=(bs,1))\n",
        "    # return K.mean(inputs, axis=axis)\n",
        "    # x=summed/tf.reshape(nwords,shape=(bs,1))\n",
        "    # return tf.concat([x,tf.reshape(nwords,shape=(bs,1))],1)\n",
        " \n",
        "  def compute_output_shape(self,input_shape):\n",
        "    return (input_shape[0], self.output_dim)\n",
        " \n",
        " \n",
        "class WordDropout(Layer):\n",
        "  def __init__(self,rate):\n",
        "    super(WordDropout,self).__init__()\n",
        "    self.rate=rate\n",
        "  \n",
        "  def call(self,inputs):\n",
        "    input_shape = K.shape(inputs)\n",
        "    batch_size = input_shape[0]\n",
        "    words = input_shape[1]\n",
        "    mask = K.random_uniform((batch_size, words, 1)) >= self.rate\n",
        "    w_drop = K.cast(mask, 'float32') * inputs\n",
        "    return w_drop"
      ],
      "execution_count": null,
      "outputs": []
    },
    {
      "cell_type": "markdown",
      "metadata": {
        "id": "NAiR98pwmXgj"
      },
      "source": [
        "Transformer model"
      ]
    },
    {
      "cell_type": "code",
      "metadata": {
        "id": "cx0QifLyqdPJ",
        "colab": {
          "base_uri": "https://localhost:8080/",
          "height": 1000
        },
        "outputId": "c4aa3e4c-c012-4b7e-91e6-8c9147323bcb"
      },
      "source": [
        "embedding_layer_head=Embedding(vocab_size,300,weights=[embedding_matrix],input_length=X_train_head.shape[1],trainable=False)\n",
        "embedding_layer_article=Embedding(vocab_size,300,weights=[embedding_matrix],input_length=X_train_article.shape[1],trainable=False)\n",
        "# embedding_layer_c=Embedding(vocab_size_c+1,70,weights=[embedding_weights],input_length=X_train_article_c.shape[1],trainable=True)\n",
        " \n",
        "\n",
        "\n",
        "convdim=128\n",
        "conv_layers=[[convdim,3,1],\n",
        "            [convdim,3,1],\n",
        "            # [convdim,5,1],\n",
        "            # [convdim,5,1],\n",
        "            # [convdim,5,1],\n",
        "            #  [convdim,5,1]\n",
        " \n",
        "            # [256,3,-1],\n",
        "            # [300,3,3]\n",
        "             ]\n",
        "   \n",
        "embdim=300\n",
        "concdim=embdim+convdim\n",
        "nheads=10\n",
        "dff=512\n",
        "n_hidden = 50\n",
        "rate=0.2\n",
        "depth=3\n",
        "# shared_lstm = LSTM(n_hidden)\n",
        "reg=l2(l=1e-3)\n",
        "\n",
        "transform=Transformer(embdim,nheads,dff,rate)\n",
        "\n",
        "X_input_article=Input(shape=(X_train_article.shape[1],))\n",
        "X1=embedding_layer_article(X_input_article)\n",
        "# X1=Lambda(function=lambda x: x*tf.math.sqrt(tf.cast(embdim, tf.float32)))(X1)\n",
        "# X1 *= tf.math.sqrt(tf.cast(embdim, tf.float32))\n",
        "# pos=PositionalEncoding(300)(X1)\n",
        "# X1=Add()([X1,pos])\n",
        "# X1=WordDropout(0.1)(X1)\n",
        " \n",
        " \n",
        "# X_input_article_c=Input(shape=(X_train_article_c.shape[1],))\n",
        "# X=embedding_layer_c(X_input_article_c)\n",
        "# # print(X.shape)\n",
        "# for filter_num,filter_size,strides in conv_layers:\n",
        "#   # X1=BatchNormalization()(X)\n",
        "#   X1=Conv1D(filter_num,filter_size,activation='relu',padding='same',strides=strides)(X1)\n",
        "#   X1=Dropout(rate)(X1)\n",
        " \n",
        "#   # if pooling_size!=-1:\n",
        "#   #   X=MaxPooling1D(pool_size=pooling_size,padding='same')(X)\n",
        "# # X= GRU(300, return_sequences=True)(X)\n",
        "# # X= GRU(100, return_sequences=True)(X)\n",
        " \n",
        "# X1=concatenate([X1,X],axis=-1)\n",
        "# print(X1.shape)\n",
        "# X1=Dropout(rate)(X1)\n",
        "# X1=BatchNormalization()(X1)\n",
        " \n",
        "# tgate=Dense(X1.shape[-1])(X1)\n",
        "# cgate=Lambda(lambda x: 1.-x)(tgate)\n",
        "# z=Dense(X1.shape[-1],activation='relu')(X1)\n",
        "# t_z=Multiply()([tgate,z])\n",
        "# c_z=Multiply()([cgate,X1])\n",
        "# X1=Add()([t_z,c_z])\n",
        "\n",
        "print(X1.shape)\n",
        "for i in range(depth):\n",
        "  # X1=BatchNormalization()(X1)\n",
        "  # X1=Dropout(rate)(X1)\n",
        "  X1=transform(X1)\n",
        "  X1=BatchNormalization()(X1)\n",
        "# X1 = shared_lstm(X1)\n",
        "# X1=AvgWords(embdim)(X1)\n",
        "\n",
        "# for filter_num,filter_size,strides in conv_layers:\n",
        "#   X=BatchNormalization()(X)\n",
        "#   X=Conv1D(filter_num,filter_size,activation='relu',padding='valid',strides=strides)(X)\n",
        "#   X=Dropout(rate)(X)\n",
        " \n",
        "\n",
        "X1=Flatten()(X1)\n",
        "# X1=GlobalAveragePooling1D()(X1)\n",
        "# X1=Dense(300,activation='relu')(X1)\n",
        "# X1=BatchNormalization()(X1)\n",
        "# X1=Dropout(rate)(X1)\n",
        " \n",
        "X_input_head=Input(shape=(X_train_head.shape[1],))\n",
        "X2=embedding_layer_head(X_input_head)\n",
        "# X2 *= tf.math.sqrt(tf.cast(embdim, tf.float32))\n",
        "# X2=Lambda(function=lambda x: x*tf.math.sqrt(tf.cast(embdim, tf.float32)))(X2)\n",
        "# pos=PositionalEncoding(300)(X2)\n",
        "# X2=Add()([X2,pos])\n",
        "# X2=WordDropout(0.1)(X2)\n",
        "# X_input_head_c=Input(shape=(X_train_head_c.shape[1],))\n",
        "# X=embedding_layer_c(X_input_head_c)\n",
        " \n",
        "# for filter_num,filter_size,strides in conv_layers:\n",
        "#   # X=BatchNormalization()(X)\n",
        "#   X2=Conv1D(filter_num,filter_size,activation='relu',padding='same',strides=strides)(X2)\n",
        "#   X2=Dropout(rate)(X2) \n",
        "#   # if pooling_size!=-1:\n",
        "#   #   X=MaxPooling1D(pool_size=pooling_size,padding='same')(X)\n",
        "\n",
        "# # X= GRU(300, return_sequences=True)(X)\n",
        "# # X= GRU(100, return_sequences=True)(X)\n",
        "# X2=concatenate([X2,X],axis=-1)\n",
        "# X2=Dropout(rate)(X2)\n",
        "# X2=BatchNormalization()(X2)\n",
        "# tgate=Dense(X2.shape[-1])(X2)\n",
        "# cgate=Lambda(lambda x: 1-x)(tgate)\n",
        "# z=Dense(X2.shape[-1],activation='relu')(X2)\n",
        "# c_z=Multiply()([cgate,X2])\n",
        "# t_z=Multiply()([tgate,z])\n",
        "# X2=Add()([t_z,c_z])\n",
        "\n",
        "for i in range(depth):\n",
        "  # X2=BatchNormalization()(X2)\n",
        "  # X2=Dropout(rate)(X2)\n",
        "  X2=transform(X2)\n",
        "  X2=BatchNormalization()(X2)\n",
        " \n",
        "\n",
        "# for filter_num,filter_size,strides in conv_layers:\n",
        "#   X=BatchNormalization()(X)\n",
        "#   X=Conv1D(filter_num,filter_size,activation='relu',padding='valid',strides=strides)(X)\n",
        "#   X=Dropout(rate)(X)\n",
        " \n",
        "# X2 = shared_lstm(X2)\n",
        "# X2=AvgWords(embdim)(X2)\n",
        "X2=Flatten()(X2)\n",
        "# X2=Dense(300,activation='relu')(X2)\n",
        "# X2=BatchNormalization()(X2)\n",
        "# X2=Dropout(rate)(X2)\n",
        " \n",
        " \n",
        "X=concatenate([X1,X2])\n",
        "X=BatchNormalization()(X)                                                                                                           \n",
        "X=Dense(512,activation='relu',kernel_regularizer=reg)(X)\n",
        "# # X=BatchNormalization()(X)\n",
        "X=Dropout(rate)(X)\n",
        "# # X=Dense(384,activation='relu')(X)\n",
        "X=Dense(256,activation='relu',kernel_regularizer=reg)(X)\n",
        "# # X=BatchNormalization()(X)\n",
        "X=Dropout(rate)(X)\n",
        "# # X=Dense(192,activation='relu')(X)\n",
        "X=Dense(128,activation='relu',kernel_regularizer=reg)(X)\n",
        "# # X=BatchNormalization()(X)\n",
        "X=Dropout(rate)(X)\n",
        "# # X=Dense(96,activation='relu')(X)\n",
        "X=Dense(64,activation='relu',kernel_regularizer=reg)(X)\n",
        "# X=BatchNormalization()(X)\n",
        "# X=Dropout(rate)(X)\n",
        "# X=Dense(48,activation='relu')(X)\n",
        "# X=Dense(32,activation='relu')(X)\n",
        "# X=BatchNormalization()(X)\n",
        "# X=Dropout(rate)(X)\n",
        "# X=Dense(16,activation='relu')(X)\n",
        " \n",
        "# out=Dense(1,activation='sigmoid')(X)\n",
        "# X2=GlobalAveragePooling1D()(X2)\n",
        "# shared_lstm = LSTM(n_hidden)\n",
        " \n",
        "# X2 = shared_lstm(X2)\n",
        "# X1 = shared_lstm(X1)\n",
        " \n",
        "# X=dot([X1,X2],axes=1)\n",
        "# out = Lambda(function=lambda x: exponent_neg_manhattan_distance(x[0], x[1]),output_shape=lambda x: (x[0][0], 1))([X2, X1])\n",
        "out=Dense(2,activation='softmax')(X)\n",
        "# out=Dense(1,activation='softmax')(X)\n",
        "# model=Model(inputs=[X_input_article,X_input_article_c,X_input_head,X_input_head_c],outputs=out)\n",
        "model=Model(inputs=[X_input_article,X_input_head], outputs=out)\n",
        "# model=Model(inputs=[X_input_article_c,X_input_head_c], outputs=out)\n",
        " \n",
        "model.summary()"
      ],
      "execution_count": null,
      "outputs": [
        {
          "output_type": "stream",
          "text": [
            "(None, 30, 300)\n",
            "Model: \"model_1\"\n",
            "__________________________________________________________________________________________________\n",
            "Layer (type)                    Output Shape         Param #     Connected to                     \n",
            "==================================================================================================\n",
            "input_3 (InputLayer)            [(None, 30)]         0                                            \n",
            "__________________________________________________________________________________________________\n",
            "embedding_3 (Embedding)         (None, 30, 300)      22427700    input_3[0][0]                    \n",
            "__________________________________________________________________________________________________\n",
            "transformer_1 (Transformer)     (None, 30, 300)      670412      embedding_3[0][0]                \n",
            "                                                                 batch_normalization_3[0][0]      \n",
            "                                                                 batch_normalization_4[0][0]      \n",
            "                                                                 embedding_2[0][0]                \n",
            "                                                                 batch_normalization_6[0][0]      \n",
            "                                                                 batch_normalization_7[0][0]      \n",
            "__________________________________________________________________________________________________\n",
            "batch_normalization_3 (BatchNor (None, 30, 300)      1200        transformer_1[0][0]              \n",
            "__________________________________________________________________________________________________\n",
            "input_4 (InputLayer)            [(None, 30)]         0                                            \n",
            "__________________________________________________________________________________________________\n",
            "batch_normalization_4 (BatchNor (None, 30, 300)      1200        transformer_1[1][0]              \n",
            "__________________________________________________________________________________________________\n",
            "embedding_2 (Embedding)         (None, 30, 300)      22427700    input_4[0][0]                    \n",
            "__________________________________________________________________________________________________\n",
            "batch_normalization_6 (BatchNor (None, 30, 300)      1200        transformer_1[3][0]              \n",
            "__________________________________________________________________________________________________\n",
            "batch_normalization_7 (BatchNor (None, 30, 300)      1200        transformer_1[4][0]              \n",
            "__________________________________________________________________________________________________\n",
            "batch_normalization_5 (BatchNor (None, 30, 300)      1200        transformer_1[2][0]              \n",
            "__________________________________________________________________________________________________\n",
            "batch_normalization_8 (BatchNor (None, 30, 300)      1200        transformer_1[5][0]              \n",
            "__________________________________________________________________________________________________\n",
            "flatten_2 (Flatten)             (None, 9000)         0           batch_normalization_5[0][0]      \n",
            "__________________________________________________________________________________________________\n",
            "flatten_3 (Flatten)             (None, 9000)         0           batch_normalization_8[0][0]      \n",
            "__________________________________________________________________________________________________\n",
            "concatenate_1 (Concatenate)     (None, 18000)        0           flatten_2[0][0]                  \n",
            "                                                                 flatten_3[0][0]                  \n",
            "__________________________________________________________________________________________________\n",
            "batch_normalization_9 (BatchNor (None, 18000)        72000       concatenate_1[0][0]              \n",
            "__________________________________________________________________________________________________\n",
            "dense_21 (Dense)                (None, 512)          9216512     batch_normalization_9[0][0]      \n",
            "__________________________________________________________________________________________________\n",
            "dropout_11 (Dropout)            (None, 512)          0           dense_21[0][0]                   \n",
            "__________________________________________________________________________________________________\n",
            "dense_22 (Dense)                (None, 256)          131328      dropout_11[0][0]                 \n",
            "__________________________________________________________________________________________________\n",
            "dropout_12 (Dropout)            (None, 256)          0           dense_22[0][0]                   \n",
            "__________________________________________________________________________________________________\n",
            "dense_23 (Dense)                (None, 128)          32896       dropout_12[0][0]                 \n",
            "__________________________________________________________________________________________________\n",
            "dropout_13 (Dropout)            (None, 128)          0           dense_23[0][0]                   \n",
            "__________________________________________________________________________________________________\n",
            "dense_24 (Dense)                (None, 64)           8256        dropout_13[0][0]                 \n",
            "__________________________________________________________________________________________________\n",
            "dense_25 (Dense)                (None, 2)            130         dense_24[0][0]                   \n",
            "==================================================================================================\n",
            "Total params: 54,994,134\n",
            "Trainable params: 10,099,134\n",
            "Non-trainable params: 44,895,000\n",
            "__________________________________________________________________________________________________\n"
          ],
          "name": "stdout"
        }
      ]
    },
    {
      "cell_type": "code",
      "metadata": {
        "id": "_SwR9Hap1NZ-"
      },
      "source": [
        "bs=1024\n",
        "lr_decay = (1./0.9 -1)/bs\n",
        "# opt = Adam(lr=(1e-4),beta_1=0.9,beta_2=0.999)\n",
        "opt=RMSprop(learning_rate=1e-4)\n",
        "loss=tf.keras.losses.CategoricalCrossentropy(label_smoothing=0.2)\n",
        "\n",
        "# opt=SGD(lr=1e-4)\n",
        "# opt=Adadelta(learning_rate=1e-2)\n",
        "model.compile(optimizer=opt, loss=loss ,metrics=['accuracy',f1_m,precision,recall])\n",
        "# model.compile(optimizer=opt, loss='mean_squared_error' ,metrics=[f1_m])\n",
        "# model.compile(optimizer=opt, loss='mean_squared_error' ,metrics=[tf.keras.metrics.RootMeanSquaredError()])\n",
        "\n",
        "checkpoint=tf.keras.callbacks.ModelCheckpoint(\n",
        "    '/content', monitor='val_acc', verbose=0, save_best_only=True,\n",
        "    save_weights_only=False, mode='max', save_freq='epoch'\n",
        ")\n",
        "callbacks = [\n",
        "            #  EarlyStopping(monitor='val_loss', patience=8, verbose=1, min_delta=1e-4),\n",
        "            #  ReduceLROnPlateau(monitor='val_loss', factor=0.1, patience=2, cooldown=0, min_lr=1e-14, verbose=1)\n",
        "            checkpoint\n",
        "]"
      ],
      "execution_count": null,
      "outputs": []
    },
    {
      "cell_type": "code",
      "metadata": {
        "id": "RkCu7ZmrV2vQ",
        "colab": {
          "base_uri": "https://localhost:8080/",
          "height": 782
        },
        "outputId": "fe20e9b9-d1de-4e42-cb3a-72d6549bf102"
      },
      "source": [
        "history=model.fit([X_train_article,X_train_head],y_train,validation_split=0.03,epochs=20,batch_size=bs)\n",
        "# model.fit([X_train_article,X_train_article_c,X_train_head,X_train_head_c],y_train,validation_split=0.05,epochs=10,batch_size=bs)\n",
        "# model.fit([X_train_article_c,X_train_head_c],y_train,validation_split=0.1,epochs=20,batch_size=bs,callbacks=callbacks)"
      ],
      "execution_count": null,
      "outputs": [
        {
          "output_type": "stream",
          "text": [
            "Epoch 1/20\n",
            "369/369 [==============================] - 280s 759ms/step - loss: 1.9268 - accuracy: 0.7063 - f1_m: 0.6679 - precision: 0.6837 - recall: 0.6634 - val_loss: 1.5907 - val_accuracy: 0.7327 - val_f1_m: 0.7257 - val_precision: 0.7249 - val_recall: 0.7386\n",
            "Epoch 2/20\n",
            "369/369 [==============================] - 279s 757ms/step - loss: 1.3206 - accuracy: 0.7591 - f1_m: 0.7333 - precision: 0.7437 - recall: 0.7280 - val_loss: 1.0981 - val_accuracy: 0.7565 - val_f1_m: 0.7314 - val_precision: 0.7404 - val_recall: 0.7265\n",
            "Epoch 3/20\n",
            "369/369 [==============================] - 279s 756ms/step - loss: 0.9403 - accuracy: 0.7832 - f1_m: 0.7627 - precision: 0.7696 - recall: 0.7587 - val_loss: 0.8361 - val_accuracy: 0.7723 - val_f1_m: 0.7550 - val_precision: 0.7557 - val_recall: 0.7547\n",
            "Epoch 4/20\n",
            "369/369 [==============================] - 279s 756ms/step - loss: 0.7495 - accuracy: 0.7995 - f1_m: 0.7814 - precision: 0.7863 - recall: 0.7784 - val_loss: 0.7235 - val_accuracy: 0.7701 - val_f1_m: 0.7591 - val_precision: 0.7561 - val_recall: 0.7645\n",
            "Epoch 5/20\n",
            "369/369 [==============================] - 279s 756ms/step - loss: 0.6570 - accuracy: 0.8127 - f1_m: 0.7964 - precision: 0.8003 - recall: 0.7943 - val_loss: 0.6627 - val_accuracy: 0.7829 - val_f1_m: 0.7615 - val_precision: 0.7681 - val_recall: 0.7571\n",
            "Epoch 6/20\n",
            "369/369 [==============================] - 279s 755ms/step - loss: 0.6083 - accuracy: 0.8226 - f1_m: 0.8081 - precision: 0.8118 - recall: 0.8058 - val_loss: 0.6498 - val_accuracy: 0.7787 - val_f1_m: 0.7667 - val_precision: 0.7635 - val_recall: 0.7734\n",
            "Epoch 7/20\n",
            "369/369 [==============================] - 279s 757ms/step - loss: 0.5775 - accuracy: 0.8311 - f1_m: 0.8173 - precision: 0.8204 - recall: 0.8155 - val_loss: 0.6415 - val_accuracy: 0.7828 - val_f1_m: 0.7674 - val_precision: 0.7668 - val_recall: 0.7688\n",
            "Epoch 8/20\n",
            "369/369 [==============================] - 279s 756ms/step - loss: 0.5565 - accuracy: 0.8393 - f1_m: 0.8263 - precision: 0.8294 - recall: 0.8244 - val_loss: 0.6389 - val_accuracy: 0.7868 - val_f1_m: 0.7764 - val_precision: 0.7731 - val_recall: 0.7856\n",
            "Epoch 9/20\n",
            "369/369 [==============================] - 279s 756ms/step - loss: 0.5406 - accuracy: 0.8461 - f1_m: 0.8337 - precision: 0.8363 - recall: 0.8324 - val_loss: 0.5870 - val_accuracy: 0.8116 - val_f1_m: 0.7944 - val_precision: 0.7996 - val_recall: 0.7907\n",
            "Epoch 10/20\n",
            "369/369 [==============================] - 279s 756ms/step - loss: 0.5279 - accuracy: 0.8533 - f1_m: 0.8413 - precision: 0.8440 - recall: 0.8397 - val_loss: 0.6089 - val_accuracy: 0.7886 - val_f1_m: 0.7765 - val_precision: 0.7733 - val_recall: 0.7828\n",
            "Epoch 11/20\n",
            "369/369 [==============================] - 279s 756ms/step - loss: 0.5174 - accuracy: 0.8608 - f1_m: 0.8495 - precision: 0.8520 - recall: 0.8482 - val_loss: 0.5819 - val_accuracy: 0.8104 - val_f1_m: 0.7907 - val_precision: 0.7993 - val_recall: 0.7853\n",
            "Epoch 12/20\n",
            "369/369 [==============================] - 279s 756ms/step - loss: 0.5087 - accuracy: 0.8661 - f1_m: 0.8552 - precision: 0.8577 - recall: 0.8538 - val_loss: 0.5877 - val_accuracy: 0.8045 - val_f1_m: 0.7952 - val_precision: 0.7914 - val_recall: 0.8035\n",
            "Epoch 13/20\n",
            "369/369 [==============================] - 279s 756ms/step - loss: 0.5013 - accuracy: 0.8721 - f1_m: 0.8624 - precision: 0.8645 - recall: 0.8612 - val_loss: 0.5914 - val_accuracy: 0.8118 - val_f1_m: 0.7893 - val_precision: 0.8055 - val_recall: 0.7809\n",
            "Epoch 14/20\n",
            "369/369 [==============================] - 279s 757ms/step - loss: 0.4942 - accuracy: 0.8775 - f1_m: 0.8682 - precision: 0.8701 - recall: 0.8671 - val_loss: 0.5769 - val_accuracy: 0.8188 - val_f1_m: 0.8019 - val_precision: 0.8099 - val_recall: 0.7967\n",
            "Epoch 15/20\n",
            "369/369 [==============================] - 279s 755ms/step - loss: 0.4882 - accuracy: 0.8828 - f1_m: 0.8737 - precision: 0.8756 - recall: 0.8725 - val_loss: 0.5806 - val_accuracy: 0.8156 - val_f1_m: 0.8016 - val_precision: 0.8015 - val_recall: 0.8021\n",
            "Epoch 16/20\n",
            "369/369 [==============================] - 279s 756ms/step - loss: 0.4826 - accuracy: 0.8871 - f1_m: 0.8777 - precision: 0.8798 - recall: 0.8768 - val_loss: 0.5764 - val_accuracy: 0.8160 - val_f1_m: 0.8030 - val_precision: 0.8011 - val_recall: 0.8059\n",
            "Epoch 17/20\n",
            "369/369 [==============================] - 279s 756ms/step - loss: 0.4775 - accuracy: 0.8919 - f1_m: 0.8835 - precision: 0.8847 - recall: 0.8830 - val_loss: 0.5588 - val_accuracy: 0.8264 - val_f1_m: 0.8132 - val_precision: 0.8120 - val_recall: 0.8147\n",
            "Epoch 18/20\n",
            "369/369 [==============================] - 279s 756ms/step - loss: 0.4729 - accuracy: 0.8959 - f1_m: 0.8876 - precision: 0.8887 - recall: 0.8870 - val_loss: 0.5590 - val_accuracy: 0.8212 - val_f1_m: 0.8028 - val_precision: 0.8138 - val_recall: 0.7961\n",
            "Epoch 19/20\n",
            "369/369 [==============================] - 279s 755ms/step - loss: 0.4687 - accuracy: 0.8993 - f1_m: 0.8918 - precision: 0.8929 - recall: 0.8913 - val_loss: 0.5824 - val_accuracy: 0.8213 - val_f1_m: 0.8056 - val_precision: 0.8107 - val_recall: 0.8020\n",
            "Epoch 20/20\n",
            "369/369 [==============================] - 279s 755ms/step - loss: 0.4648 - accuracy: 0.9029 - f1_m: 0.8958 - precision: 0.8967 - recall: 0.8954 - val_loss: 0.5676 - val_accuracy: 0.8269 - val_f1_m: 0.8111 - val_precision: 0.8142 - val_recall: 0.8088\n"
          ],
          "name": "stdout"
        }
      ]
    },
    {
      "cell_type": "code",
      "metadata": {
        "id": "sRFREd9LgtWW",
        "colab": {
          "base_uri": "https://localhost:8080/",
          "height": 129
        },
        "outputId": "929135f1-1fee-4c89-f249-ed92466fb8c0"
      },
      "source": [
        "model.evaluate([X_test_article,X_test_head],y_test)"
      ],
      "execution_count": null,
      "outputs": [
        {
          "output_type": "stream",
          "text": [
            "493/493 [==============================] - 4s 8ms/step - loss: 0.5291 - accuracy: 0.8366 - f1_m: 0.8203 - precision: 0.8231 - recall: 0.8287\n"
          ],
          "name": "stdout"
        },
        {
          "output_type": "execute_result",
          "data": {
            "text/plain": [
              "[0.5291393995285034,\n",
              " 0.836567759513855,\n",
              " 0.8203033208847046,\n",
              " 0.8231268525123596,\n",
              " 0.8286716938018799]"
            ]
          },
          "metadata": {
            "tags": []
          },
          "execution_count": 23
        }
      ]
    },
    {
      "cell_type": "code",
      "metadata": {
        "id": "HGAgD2w_3sfm",
        "colab": {
          "base_uri": "https://localhost:8080/",
          "height": 36
        },
        "outputId": "ff4be91c-4c22-4864-a6bc-e6ec010796b4"
      },
      "source": [
        "y_pred=model.predict([X_test_article,X_test_head])\n",
        "# y_pred=model.predict([X_test_1,X_test_1])\n",
        "y_pred=np.argmax(y_pred,axis=1)\n",
        "y_t=np.argmax(y_test,axis=1)\n",
        "y_pred"
      ],
      "execution_count": null,
      "outputs": [
        {
          "output_type": "execute_result",
          "data": {
            "text/plain": [
              "array([0, 0, 0, ..., 1, 1, 0])"
            ]
          },
          "metadata": {
            "tags": []
          },
          "execution_count": 24
        }
      ]
    },
    {
      "cell_type": "code",
      "metadata": {
        "id": "4og_JObufOAo",
        "colab": {
          "base_uri": "https://localhost:8080/",
          "height": 36
        },
        "outputId": "7fa9c6f5-1ce8-40f7-afd5-d1d02d8fb38c"
      },
      "source": [
        "from sklearn.metrics import f1_score\n",
        "f1_score(y_t, y_pred, average=None)"
      ],
      "execution_count": null,
      "outputs": [
        {
          "output_type": "execute_result",
          "data": {
            "text/plain": [
              "array([0.86982876, 0.78047534])"
            ]
          },
          "metadata": {
            "tags": []
          },
          "execution_count": 25
        }
      ]
    },
    {
      "cell_type": "code",
      "metadata": {
        "id": "ojEVJZ8vfIgo",
        "colab": {
          "base_uri": "https://localhost:8080/",
          "height": 559
        },
        "outputId": "29e6077e-2dac-4b37-f662-79fc7c557cd1"
      },
      "source": [
        "import matplotlib.pylab as plt\n",
        "\n",
        "acc=history.history['accuracy']\n",
        "val_acc=history.history['val_accuracy']\n",
        "loss=history.history['loss']\n",
        "val_loss=history.history['val_loss']\n",
        "epochs=range(1,len(acc)+1)\n",
        "plt.title('Accuracy')\n",
        "plt.xlabel('Epochs')\n",
        "plt.ylabel('Accuracy')\n",
        "plt.plot(epochs,acc,'blue',label='Training acc')\n",
        "plt.plot(epochs,val_acc,'red',label='val acc')\n",
        "plt.legend()\n",
        "\n",
        "plt.figure()\n",
        "plt.title('val losses')\n",
        "plt.plot(epochs,loss,'blue',label='Training loss')\n",
        "plt.plot(epochs,val_loss,'red',label='val loss')\n",
        "plt.legend()\n",
        "plt.show()\n",
        "\n",
        "google_plot=pd.DataFrame({'acc':acc,'val acc':val_acc,'loss':loss,'val_loss':val_loss,'epochs':epochs})\n",
        "google_plot.to_csv('/content/google_plot.csv')"
      ],
      "execution_count": null,
      "outputs": [
        {
          "output_type": "display_data",
          "data": {
            "image/png": "[encoded data removed]",
            "text/plain": [
              "<Figure size 432x288 with 1 Axes>"
            ]
          },
          "metadata": {
            "tags": [],
            "needs_background": "light"
          }
        },
        {
          "output_type": "display_data",
          "data": {
            "image/png": "[encoded data removed]",
            "text/plain": [
              "<Figure size 432x288 with 1 Axes>"
            ]
          },
          "metadata": {
            "tags": [],
            "needs_background": "light"
          }
        }
      ]
    },
    {
      "cell_type": "code",
      "metadata": {
        "id": "MwrhYnxthQrN"
      },
      "source": [],
      "execution_count": null,
      "outputs": []
    },
    {
      "cell_type": "code",
      "metadata": {
        "id": "dVba7TSWIVHZ",
        "colab": {
          "base_uri": "https://localhost:8080/",
          "height": 424
        },
        "outputId": "db739f88-6c09-4cc7-ebc9-d16d42cffeeb"
      },
      "source": [
        "google_pred = pd.DataFrame({'0': y_pre[:, 0], '1': y_pre[:, 1]})\n",
        "google_pred"
      ],
      "execution_count": null,
      "outputs": [
        {
          "output_type": "execute_result",
          "data": {
            "text/html": [
              "<div>\n",
              "<style scoped>\n",
              "    .dataframe tbody tr th:only-of-type {\n",
              "        vertical-align: middle;\n",
              "    }\n",
              "\n",
              "    .dataframe tbody tr th {\n",
              "        vertical-align: top;\n",
              "    }\n",
              "\n",
              "    .dataframe thead th {\n",
              "        text-align: right;\n",
              "    }\n",
              "</style>\n",
              "<table border=\"1\" class=\"dataframe\">\n",
              "  <thead>\n",
              "    <tr style=\"text-align: right;\">\n",
              "      <th></th>\n",
              "      <th>0</th>\n",
              "      <th>1</th>\n",
              "    </tr>\n",
              "  </thead>\n",
              "  <tbody>\n",
              "    <tr>\n",
              "      <th>0</th>\n",
              "      <td>7.833169e-01</td>\n",
              "      <td>0.216683</td>\n",
              "    </tr>\n",
              "    <tr>\n",
              "      <th>1</th>\n",
              "      <td>9.556667e-01</td>\n",
              "      <td>0.044333</td>\n",
              "    </tr>\n",
              "    <tr>\n",
              "      <th>2</th>\n",
              "      <td>9.879216e-01</td>\n",
              "      <td>0.012078</td>\n",
              "    </tr>\n",
              "    <tr>\n",
              "      <th>3</th>\n",
              "      <td>9.998472e-01</td>\n",
              "      <td>0.000153</td>\n",
              "    </tr>\n",
              "    <tr>\n",
              "      <th>4</th>\n",
              "      <td>3.782984e-01</td>\n",
              "      <td>0.621702</td>\n",
              "    </tr>\n",
              "    <tr>\n",
              "      <th>...</th>\n",
              "      <td>...</td>\n",
              "      <td>...</td>\n",
              "    </tr>\n",
              "    <tr>\n",
              "      <th>15763</th>\n",
              "      <td>9.996454e-01</td>\n",
              "      <td>0.000355</td>\n",
              "    </tr>\n",
              "    <tr>\n",
              "      <th>15764</th>\n",
              "      <td>9.442886e-08</td>\n",
              "      <td>1.000000</td>\n",
              "    </tr>\n",
              "    <tr>\n",
              "      <th>15765</th>\n",
              "      <td>4.017415e-05</td>\n",
              "      <td>0.999960</td>\n",
              "    </tr>\n",
              "    <tr>\n",
              "      <th>15766</th>\n",
              "      <td>2.758281e-02</td>\n",
              "      <td>0.972417</td>\n",
              "    </tr>\n",
              "    <tr>\n",
              "      <th>15767</th>\n",
              "      <td>9.987116e-01</td>\n",
              "      <td>0.001288</td>\n",
              "    </tr>\n",
              "  </tbody>\n",
              "</table>\n",
              "<p>15768 rows × 2 columns</p>\n",
              "</div>"
            ],
            "text/plain": [
              "                  0         1\n",
              "0      7.833169e-01  0.216683\n",
              "1      9.556667e-01  0.044333\n",
              "2      9.879216e-01  0.012078\n",
              "3      9.998472e-01  0.000153\n",
              "4      3.782984e-01  0.621702\n",
              "...             ...       ...\n",
              "15763  9.996454e-01  0.000355\n",
              "15764  9.442886e-08  1.000000\n",
              "15765  4.017415e-05  0.999960\n",
              "15766  2.758281e-02  0.972417\n",
              "15767  9.987116e-01  0.001288\n",
              "\n",
              "[15768 rows x 2 columns]"
            ]
          },
          "metadata": {
            "tags": []
          },
          "execution_count": 37
        }
      ]
    },
    {
      "cell_type": "code",
      "metadata": {
        "id": "BEMXSiMqIVgS"
      },
      "source": [
        "google_pred.to_csv('/content/google_pre.csv')"
      ],
      "execution_count": null,
      "outputs": []
    },
    {
      "cell_type": "code",
      "metadata": {
        "id": "b42smo5Fajxx",
        "colab": {
          "base_uri": "https://localhost:8080/",
          "height": 36
        },
        "outputId": "c9902828-c6e5-44e3-a8e0-a6535a26fe78"
      },
      "source": [
        "x=pd.read_csv('/content/google_pred.csv')\n",
        "x.isnull().values.sum()"
      ],
      "execution_count": null,
      "outputs": [
        {
          "output_type": "execute_result",
          "data": {
            "text/plain": [
              "0"
            ]
          },
          "metadata": {
            "tags": []
          },
          "execution_count": 27
        }
      ]
    },
    {
      "cell_type": "code",
      "metadata": {
        "id": "rLe-cVogOVjn"
      },
      "source": [
        "import matplotlib.pylab as plt\n",
        "font = {'size'   : 22}\n",
        "\n",
        "plt.rc('font', **font)\n",
        "\n",
        "def plot_confusion_matrix(cm, target_names,title='Confusion matrix',cmap=None,normalize=False):\n",
        "    accuracy = np.trace(cm) / float(np.sum(cm))\n",
        "    misclass = 1 - accuracy\n",
        "    if cmap is None:\n",
        "        cmap = plt.get_cmap('Blues')\n",
        "    plt.figure(figsize=(10, 8))\n",
        "    plt.imshow(cm, interpolation='nearest', cmap=cmap)\n",
        "    plt.title(title)\n",
        "    plt.colorbar()\n",
        "\n",
        "    if target_names is not None:\n",
        "        tick_marks = np.arange(len(target_names))\n",
        "        plt.xticks(tick_marks, target_names, rotation=45)\n",
        "        plt.yticks(tick_marks, target_names)\n",
        "\n",
        "    if normalize:\n",
        "        cm = cm.astype('float32') / cm.sum(axis=1)\n",
        "        cm = np.round(cm,2)\n",
        "        \n",
        "\n",
        "    thresh = cm.max() / 1.5 if normalize else cm.max() / 2\n",
        "    for i, j in itertools.product(range(cm.shape[0]), range(cm.shape[1])):\n",
        "        if normalize:\n",
        "            plt.text(j, i, \"{:0.2f}\".format(cm[i, j]),\n",
        "                     horizontalalignment=\"center\",\n",
        "                     color=\"white\" if cm[i, j] > thresh else \"black\")\n",
        "        else:\n",
        "            plt.text(j, i, \"{:,}\".format(cm[i, j]),\n",
        "                     horizontalalignment=\"center\",\n",
        "                     color=\"white\" if cm[i, j] > thresh else \"black\")\n",
        "\n",
        "    plt.tight_layout()\n",
        "    plt.ylabel('True label')\n",
        "    plt.xlabel(\"Predicted label\\naccuracy={:0.4f}\\n misclass={:0.4f}\".format(accuracy, misclass))\n",
        "    plt.show()"
      ],
      "execution_count": null,
      "outputs": []
    },
    {
      "cell_type": "code",
      "metadata": {
        "id": "E4oP5iMCwA2j"
      },
      "source": [
        "crawl_pred=pd.read_csv('/content/crawl_pred.csv')\n",
        "wiki_pred=pd.read_csv('/content/wiki_pred.csv')\n",
        "glove_pred=pd.read_csv('/content/glove_pred.csv')\n",
        "google_pred=pd.read_csv('/content/google_pred.csv')\n",
        "sub_pred=pd.read_csv('/content/subcrawl_pred.csv')"
      ],
      "execution_count": null,
      "outputs": []
    },
    {
      "cell_type": "code",
      "metadata": {
        "id": "a5wuAI0ewLxy"
      },
      "source": [
        "y_pred_c=crawl_pred[['0','1']].values\n",
        "y_pred_w=wiki_pred[['0','1']].values\n",
        "y_pred_gl=glove_pred[['0','1']].values\n",
        "y_pred_g=google_pred[['0','1']].values\n",
        "y_pred_s=sub_pred[['0','1']].values\n",
        "pred_dict={'crawl':y_pred_c,'wiki':y_pred_w,'google':y_pred_g,'glove':y_pred_gl,'sub':y_pred_s}"
      ],
      "execution_count": null,
      "outputs": []
    },
    {
      "cell_type": "code",
      "metadata": {
        "id": "Uk5Lz7HHIgfJ",
        "colab": {
          "base_uri": "https://localhost:8080/",
          "height": 1000
        },
        "outputId": "c6961273-f794-44c1-b5c6-e209c096720b"
      },
      "source": [
        "from sklearn.metrics import f1_score\n",
        "from sklearn.metrics import accuracy_score\n",
        "from sklearn.metrics import confusion_matrix\n",
        "from sklearn.metrics import precision_recall_fscore_support\n",
        "import itertools\n",
        "\n",
        "for k,v in pred_dict.items():\n",
        "  print(k)\n",
        "  y_p=np.argmax(v,axis=1)\n",
        "  print(precision_recall_fscore_support(y_test, y_p, average='macro'))\n",
        "  print(f1_score(y_test, y_p, average=None))\n",
        "  print(f1_score(y_test, y_p, average='macro'))\n",
        "  print(accuracy_score(y_test, y_p))\n",
        "  # print(precision(y_test,y_p))\n",
        "  # print(recall(y_test,y_p))\n",
        "  cm=confusion_matrix(y_test,y_p)\n",
        "  print(confusion_matrix(y_test,y_p))\n",
        "  plot_confusion_matrix(cm, normalize=False, target_names=['0','1'])\n",
        "\n"
      ],
      "execution_count": null,
      "outputs": [
        {
          "output_type": "stream",
          "text": [
            "findfont: Font family ['normal'] not found. Falling back to DejaVu Sans.\n",
            "findfont: Font family ['normal'] not found. Falling back to DejaVu Sans.\n"
          ],
          "name": "stderr"
        },
        {
          "output_type": "stream",
          "text": [
            "crawl\n",
            "(0.8258288277978212, 0.8253166047957704, 0.8255709323102913, None)\n",
            "[0.87323803 0.77790383]\n",
            "0.8255709323102913\n",
            "0.8385971588026383\n",
            "[[8766 1262]\n",
            " [1283 4457]]\n"
          ],
          "name": "stdout"
        },
        {
          "output_type": "stream",
          "text": [
            "findfont: Font family ['normal'] not found. Falling back to DejaVu Sans.\n"
          ],
          "name": "stderr"
        },
        {
          "output_type": "display_data",
          "data": {
            "image/png": "[encoded data removed]",
            "text/plain": [
              "<Figure size 720x576 with 2 Axes>"
            ]
          },
          "metadata": {
            "tags": [],
            "needs_background": "light"
          }
        },
        {
          "output_type": "stream",
          "text": [
            "wiki\n",
            "(0.8221840085494997, 0.8154306269970216, 0.8185192572277804, None)\n",
            "[0.87092171 0.76611681]\n",
            "0.8185192572277804\n",
            "0.833650431253171\n",
            "[[8849 1179]\n",
            " [1444 4296]]\n"
          ],
          "name": "stdout"
        },
        {
          "output_type": "display_data",
          "data": {
            "image/png": "[encoded data removed]",
            "text/plain": [
              "<Figure size 720x576 with 2 Axes>"
            ]
          },
          "metadata": {
            "tags": [],
            "needs_background": "light"
          }
        },
        {
          "output_type": "stream",
          "text": [
            "google\n",
            "(0.8205415323293747, 0.8143835587880068, 0.8172193179207579, None)\n",
            "[0.86975369 0.76468494]\n",
            "0.8172193179207579\n",
            "0.8323186199898529\n",
            "[[8828 1200]\n",
            " [1444 4296]]\n"
          ],
          "name": "stdout"
        },
        {
          "output_type": "display_data",
          "data": {
            "image/png": "[encoded data removed]",
            "text/plain": [
              "<Figure size 720x576 with 2 Axes>"
            ]
          },
          "metadata": {
            "tags": [],
            "needs_background": "light"
          }
        },
        {
          "output_type": "stream",
          "text": [
            "glove\n",
            "(0.8184746714148141, 0.8154728085402685, 0.8169127001895158, None)\n",
            "[0.86813023 0.76569517]\n",
            "0.8169127001895158\n",
            "0.8312404870624048\n",
            "[[8759 1269]\n",
            " [1392 4348]]\n"
          ],
          "name": "stdout"
        },
        {
          "output_type": "display_data",
          "data": {
            "image/png": "[encoded data removed]",
            "text/plain": [
              "<Figure size 720x576 with 2 Axes>"
            ]
          },
          "metadata": {
            "tags": [],
            "needs_background": "light"
          }
        },
        {
          "output_type": "stream",
          "text": [
            "sub\n",
            "(0.8228766240002194, 0.8127848644005843, 0.8172161786637981, None)\n",
            "[0.87138594 0.76304642]\n",
            "0.8172161786637981\n",
            "0.8332699137493658\n",
            "[[8906 1122]\n",
            " [1507 4233]]\n"
          ],
          "name": "stdout"
        },
        {
          "output_type": "display_data",
          "data": {
            "image/png": "[encoded data removed]",
            "text/plain": [
              "<Figure size 720x576 with 2 Axes>"
            ]
          },
          "metadata": {
            "tags": [],
            "needs_background": "light"
          }
        }
      ]
    },
    {
      "cell_type": "code",
      "metadata": {
        "id": "iJmwQemhM1iK",
        "colab": {
          "base_uri": "https://localhost:8080/",
          "height": 685
        },
        "outputId": "c3dea989-f799-450d-c550-72c78d378503"
      },
      "source": [
        "y_p=0.25*y_pred_c+0.25*y_pred_s+0.25*y_pred_w+0.25*y_pred_g\n",
        "# y_p=0.34*y_pred_c+0.33*y_pred_s+0.33*y_pred_w\n",
        "y_p=np.argmax(y_p,axis=1)\n",
        "print(precision_recall_fscore_support(y_test, y_p, average='macro'))\n",
        "print(f1_score(y_test, y_p, average=None))\n",
        "print(accuracy_score(y_test, y_p))\n",
        "# print(precision(y_test,y_p))\n",
        "# print(recall(y_test,y_p))\n",
        "cm=(confusion_matrix(y_test,y_p))\n",
        "plot_confusion_matrix(cm, normalize=False, target_names=['0','1'])\n"
      ],
      "execution_count": null,
      "outputs": [
        {
          "output_type": "stream",
          "text": [
            "(0.8531522273667926, 0.8410519882308629, 0.8463400662261524, None)\n",
            "[0.89221001 0.80047012]\n",
            "0.8600329781836631\n"
          ],
          "name": "stdout"
        },
        {
          "output_type": "display_data",
          "data": {
            "image/png": "[encoded data removed]",
            "text/plain": [
              "<Figure size 720x576 with 2 Axes>"
            ]
          },
          "metadata": {
            "tags": [],
            "needs_background": "light"
          }
        }
      ]
    },
    {
      "cell_type": "code",
      "metadata": {
        "id": "j6SKFEECwVGC"
      },
      "source": [
        "# y_p=0.35*y_pred_c+0.15*y_pred+0.35*y_pred_w+0.15*y_pred_gl\n",
        "y_p=0.33*y_pred+0.33*y_predg+0.34*y_pre\n",
        "y_p=np.argmax(y_p,axis=1)\n",
        "y_t=np.argmax(y_test,axis=1)"
      ],
      "execution_count": null,
      "outputs": []
    },
    {
      "cell_type": "code",
      "metadata": {
        "id": "DZ_jIT0X34Tt",
        "colab": {
          "base_uri": "https://localhost:8080/",
          "height": 36
        },
        "outputId": "eef3503a-f1e0-4f6d-f146-cb8f3e5a73ee"
      },
      "source": [
        "from sklearn.metrics import f1_score\n",
        "f1_score(y_t, y_p, average=None)"
      ],
      "execution_count": null,
      "outputs": [
        {
          "output_type": "execute_result",
          "data": {
            "text/plain": [
              "array([0.88411975, 0.79419014])"
            ]
          },
          "metadata": {
            "tags": []
          },
          "execution_count": 40
        }
      ]
    },
    {
      "cell_type": "code",
      "metadata": {
        "id": "noLyzJsFwiSC",
        "colab": {
          "base_uri": "https://localhost:8080/",
          "height": 36
        },
        "outputId": "93f70ba4-5434-4dbe-b6e7-d38b6cba5234"
      },
      "source": [
        "from sklearn.metrics import accuracy_score\n",
        "accuracy_score(y_t, y_p)"
      ],
      "execution_count": null,
      "outputs": [
        {
          "output_type": "execute_result",
          "data": {
            "text/plain": [
              "0.8517250126839168"
            ]
          },
          "metadata": {
            "tags": []
          },
          "execution_count": 41
        }
      ]
    },
    {
      "cell_type": "code",
      "metadata": {
        "id": "qqtFd3dYwn3j",
        "colab": {
          "base_uri": "https://localhost:8080/",
          "height": 147
        },
        "outputId": "5ed4a959-7c4b-4dd8-ffa7-094a4f009b77"
      },
      "source": [
        "y_pred"
      ],
      "execution_count": null,
      "outputs": [
        {
          "output_type": "execute_result",
          "data": {
            "text/plain": [
              "array([[0.72091556, 0.2790844 ],\n",
              "       [0.8970958 , 0.10290424],\n",
              "       [0.8834689 , 0.11653106],\n",
              "       ...,\n",
              "       [0.15851144, 0.84148854],\n",
              "       [0.11503624, 0.8849638 ],\n",
              "       [0.8834633 , 0.11653667]], dtype=float32)"
            ]
          },
          "metadata": {
            "tags": []
          },
          "execution_count": 46
        }
      ]
    },
    {
      "cell_type": "code",
      "metadata": {
        "id": "HhI0k2M5zEwe",
        "colab": {
          "base_uri": "https://localhost:8080/",
          "height": 147
        },
        "outputId": "e9bc9809-5a33-47a5-9485-5bb2418c4fd0"
      },
      "source": [
        "y_pred_c"
      ],
      "execution_count": null,
      "outputs": [
        {
          "output_type": "execute_result",
          "data": {
            "text/plain": [
              "array([[0.77645546, 0.22354454],\n",
              "       [0.8485904 , 0.15140961],\n",
              "       [0.6735433 , 0.32645673],\n",
              "       ...,\n",
              "       [0.1117273 , 0.88827264],\n",
              "       [0.10367561, 0.89632434],\n",
              "       [0.8723563 , 0.12764369]])"
            ]
          },
          "metadata": {
            "tags": []
          },
          "execution_count": 47
        }
      ]
    },
    {
      "cell_type": "code",
      "metadata": {
        "id": "Btq7H3_2I1w0"
      },
      "source": [
        "y_p=0.25*y_pred_c+0.25*y_pred_s+0.25*y_pred_w+0.25*y_pred_g\n",
        "comb_pred = pd.DataFrame({'0': y_p[:, 0], '1': y_p[:, 1]})\n",
        "comb_pred.to_csv('/content/comb_pred.csv')"
      ],
      "execution_count": null,
      "outputs": []
    },
    {
      "cell_type": "code",
      "metadata": {
        "id": "rwNTYLw8w8G0",
        "colab": {
          "base_uri": "https://localhost:8080/",
          "height": 424
        },
        "outputId": "73f4db36-b9af-4514-8f4a-ac7363bb9e65"
      },
      "source": [
        "comb_pred"
      ],
      "execution_count": null,
      "outputs": [
        {
          "output_type": "execute_result",
          "data": {
            "text/html": [
              "<div>\n",
              "<style scoped>\n",
              "    .dataframe tbody tr th:only-of-type {\n",
              "        vertical-align: middle;\n",
              "    }\n",
              "\n",
              "    .dataframe tbody tr th {\n",
              "        vertical-align: top;\n",
              "    }\n",
              "\n",
              "    .dataframe thead th {\n",
              "        text-align: right;\n",
              "    }\n",
              "</style>\n",
              "<table border=\"1\" class=\"dataframe\">\n",
              "  <thead>\n",
              "    <tr style=\"text-align: right;\">\n",
              "      <th></th>\n",
              "      <th>0</th>\n",
              "      <th>1</th>\n",
              "    </tr>\n",
              "  </thead>\n",
              "  <tbody>\n",
              "    <tr>\n",
              "      <th>0</th>\n",
              "      <td>0.579083</td>\n",
              "      <td>0.420917</td>\n",
              "    </tr>\n",
              "    <tr>\n",
              "      <th>1</th>\n",
              "      <td>0.874921</td>\n",
              "      <td>0.125079</td>\n",
              "    </tr>\n",
              "    <tr>\n",
              "      <th>2</th>\n",
              "      <td>0.792299</td>\n",
              "      <td>0.207701</td>\n",
              "    </tr>\n",
              "    <tr>\n",
              "      <th>3</th>\n",
              "      <td>0.861314</td>\n",
              "      <td>0.138686</td>\n",
              "    </tr>\n",
              "    <tr>\n",
              "      <th>4</th>\n",
              "      <td>0.729770</td>\n",
              "      <td>0.270230</td>\n",
              "    </tr>\n",
              "    <tr>\n",
              "      <th>...</th>\n",
              "      <td>...</td>\n",
              "      <td>...</td>\n",
              "    </tr>\n",
              "    <tr>\n",
              "      <th>15763</th>\n",
              "      <td>0.880833</td>\n",
              "      <td>0.119167</td>\n",
              "    </tr>\n",
              "    <tr>\n",
              "      <th>15764</th>\n",
              "      <td>0.117397</td>\n",
              "      <td>0.882603</td>\n",
              "    </tr>\n",
              "    <tr>\n",
              "      <th>15765</th>\n",
              "      <td>0.126518</td>\n",
              "      <td>0.873481</td>\n",
              "    </tr>\n",
              "    <tr>\n",
              "      <th>15766</th>\n",
              "      <td>0.163163</td>\n",
              "      <td>0.836837</td>\n",
              "    </tr>\n",
              "    <tr>\n",
              "      <th>15767</th>\n",
              "      <td>0.879395</td>\n",
              "      <td>0.120605</td>\n",
              "    </tr>\n",
              "  </tbody>\n",
              "</table>\n",
              "<p>15768 rows × 2 columns</p>\n",
              "</div>"
            ],
            "text/plain": [
              "              0         1\n",
              "0      0.579083  0.420917\n",
              "1      0.874921  0.125079\n",
              "2      0.792299  0.207701\n",
              "3      0.861314  0.138686\n",
              "4      0.729770  0.270230\n",
              "...         ...       ...\n",
              "15763  0.880833  0.119167\n",
              "15764  0.117397  0.882603\n",
              "15765  0.126518  0.873481\n",
              "15766  0.163163  0.836837\n",
              "15767  0.879395  0.120605\n",
              "\n",
              "[15768 rows x 2 columns]"
            ]
          },
          "metadata": {
            "tags": []
          },
          "execution_count": 9
        }
      ]
    },
    {
      "cell_type": "code",
      "metadata": {
        "id": "JrOQEThNxFt8"
      },
      "source": [],
      "execution_count": null,
      "outputs": []
    }
  ]
}